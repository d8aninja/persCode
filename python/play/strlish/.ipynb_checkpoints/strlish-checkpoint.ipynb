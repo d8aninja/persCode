{
 "cells": [
  {
   "cell_type": "code",
   "execution_count": 2,
   "metadata": {},
   "outputs": [],
   "source": [
    "def _str_find_all(string, pattern):\n",
    "    ''' Returns a list of all occurances of a pattern within a string. '''\n",
    "\n",
    "    locations = []\n",
    "    cur = string.find(pattern)\n",
    "    while cur != -1:\n",
    "        print(cur)\n",
    "        locations.append(cur)\n",
    "        cur = string.find(pattern, cur+1)\n",
    "    locations.reverse()"
   ]
  },
  {
   "cell_type": "code",
   "execution_count": 3,
   "metadata": {},
   "outputs": [],
   "source": [
    "test_str = \"THEY SAY WHAT WHAT, I SAY WHAT WHO WHAT NOW? OKAY WHAT.\""
   ]
  },
  {
   "cell_type": "code",
   "execution_count": 4,
   "metadata": {},
   "outputs": [],
   "source": [
    "test_sub = \"WHAT\""
   ]
  },
  {
   "cell_type": "code",
   "execution_count": 5,
   "metadata": {
    "scrolled": true
   },
   "outputs": [
    {
     "name": "stdout",
     "output_type": "stream",
     "text": [
      "9\n"
     ]
    }
   ],
   "source": [
    "cur = test_str.find(test_sub)\n",
    "print(cur)"
   ]
  },
  {
   "cell_type": "code",
   "execution_count": 6,
   "metadata": {},
   "outputs": [
    {
     "name": "stdout",
     "output_type": "stream",
     "text": [
      "9\n",
      "14\n",
      "26\n",
      "35\n",
      "50\n",
      "None\n"
     ]
    }
   ],
   "source": [
    "locations = []\n",
    "cur = test_str.find(test_sub)\n",
    "while cur != -1:\n",
    "    print(cur)\n",
    "    locations.append(cur)\n",
    "    cur = test_str.find(test_sub, cur+1)\n",
    "print(locations.reverse())"
   ]
  },
  {
   "cell_type": "code",
   "execution_count": 7,
   "metadata": {},
   "outputs": [
    {
     "name": "stdout",
     "output_type": "stream",
     "text": [
      "9\n",
      "14\n",
      "26\n",
      "35\n",
      "50\n"
     ]
    }
   ],
   "source": [
    "_str_find_all(test_str,test_sub )"
   ]
  },
  {
   "cell_type": "code",
   "execution_count": 8,
   "metadata": {},
   "outputs": [
    {
     "name": "stdout",
     "output_type": "stream",
     "text": [
      "9\n",
      "14\n",
      "26\n",
      "35\n",
      "50\n",
      "None\n"
     ]
    }
   ],
   "source": [
    "print(_str_find_all(test_str,test_sub ))"
   ]
  },
  {
   "cell_type": "code",
   "execution_count": 9,
   "metadata": {},
   "outputs": [],
   "source": [
    "# using list comprehension + startswith() \n",
    "# All occurrences of substring in string  \n",
    "res = [i for i in range(len(test_str)) if test_str.startswith(test_sub, i)] "
   ]
  },
  {
   "cell_type": "code",
   "execution_count": 10,
   "metadata": {},
   "outputs": [
    {
     "name": "stdout",
     "output_type": "stream",
     "text": [
      "[9, 14, 26, 35, 50]\n"
     ]
    }
   ],
   "source": [
    "print(res)"
   ]
  },
  {
   "cell_type": "code",
   "execution_count": 33,
   "metadata": {},
   "outputs": [],
   "source": [
    "def new_str_find_all(string, pattern):\n",
    "    locations = []\n",
    "    s = string.find(pattern)\n",
    "    for i in range(len(string)):\n",
    "        locations.append(s)\n",
    "        s = string.find(pattern, cur+1)\n",
    "        locations"
   ]
  },
  {
   "cell_type": "code",
   "execution_count": 34,
   "metadata": {},
   "outputs": [],
   "source": [
    "new_str_find_all(test_str,test_sub )"
   ]
  },
  {
   "cell_type": "code",
   "execution_count": null,
   "metadata": {},
   "outputs": [],
   "source": []
  },
  {
   "cell_type": "code",
   "execution_count": null,
   "metadata": {},
   "outputs": [],
   "source": []
  }
 ],
 "metadata": {
  "kernelspec": {
   "display_name": "Python 3.7.3 64-bit",
   "language": "python",
   "name": "python37364bit76504fc049d045eda3a22b014d579133"
  },
  "language_info": {
   "codemirror_mode": {
    "name": "ipython",
    "version": 3
   },
   "file_extension": ".py",
   "mimetype": "text/x-python",
   "name": "python",
   "nbconvert_exporter": "python",
   "pygments_lexer": "ipython3",
   "version": "3.7.3"
  }
 },
 "nbformat": 4,
 "nbformat_minor": 4
}
