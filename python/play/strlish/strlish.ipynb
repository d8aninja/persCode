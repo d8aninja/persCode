{
 "cells": [
  {
   "cell_type": "code",
   "execution_count": 36,
   "metadata": {},
   "outputs": [],
   "source": [
    "import functools\n",
    "import time\n",
    "import re\n",
    "import pandas\n",
    "\n",
    "def timer(func):\n",
    "    @functools.wraps(func)\n",
    "    def wrapper_timer(*args, **kwargs):\n",
    "        tic = time.perf_counter()\n",
    "        value = func(*args, **kwargs)\n",
    "        toc = time.perf_counter()\n",
    "        elapsed_time = toc - tic\n",
    "        print(f\"Elapsed time: {elapsed_time:0.10f} seconds\")\n",
    "        return value\n",
    "    return wrapper_timer\n"
   ]
  },
  {
   "cell_type": "code",
   "execution_count": 25,
   "metadata": {},
   "outputs": [],
   "source": [
    "@timer\n",
    "def old_str_find_all(string, pattern):\n",
    "    ''' Returns a list of all occurances of a pattern within a string. '''\n",
    "\n",
    "    locations = []\n",
    "    cur = string.find(pattern)\n",
    "    while cur != -1:\n",
    "        locations.append(cur)\n",
    "        cur = string.find(pattern, cur+1)\n",
    "    locations.reverse()\n",
    "\n",
    "    return locations\n",
    "\n",
    "@timer\n",
    "def new_str_find_all(string, pattern):\n",
    "    return [i for i in range(len(string)) if string.startswith(pattern, i)]\n"
   ]
  },
  {
   "cell_type": "code",
   "execution_count": 26,
   "metadata": {},
   "outputs": [
    {
     "data": {
      "text/plain": [
       "5390"
      ]
     },
     "execution_count": 26,
     "metadata": {},
     "output_type": "execute_result"
    }
   ],
   "source": [
    "test_str = \"THEY SAY WHAT WHAT, I SAY WHAT WHO WHAT NOW? OKAY WHAT.THEY SAY WHAT WHAT, I SAY WHAT WHO WHAT NOW? OKAY WHAT.THEY SAY WHAT WHAT, I SAY WHAT WHO WHAT NOW? OKAY WHAT.THEY SAY WHAT WHAT, I SAY WHAT WHO WHAT NOW? OKAY WHAT.THEY SAY WHAT WHAT, I SAY WHAT WHO WHAT NOW? OKAY WHAT.THEY SAY WHAT WHAT, I SAY WHAT WHO WHAT NOW? OKAY WHAT.THEY SAY WHAT WHAT, I SAY WHAT WHO WHAT NOW? OKAY WHAT.THEY SAY WHAT WHAT, I SAY WHAT WHO WHAT NOW? OKAY WHAT.THEY SAY WHAT WHAT, I SAY WHAT WHO WHAT NOW? OKAY WHAT.THEY SAY WHAT WHAT, I SAY WHAT WHO WHAT NOW? OKAY WHAT.THEY SAY WHAT WHAT, I SAY WHAT WHO WHAT NOW? OKAY WHAT.THEY SAY WHAT WHAT, I SAY WHAT WHO WHAT NOW? OKAY WHAT.THEY SAY WHAT WHAT, I SAY WHAT WHO WHAT NOW? OKAY WHAT.THEY SAY WHAT WHAT, I SAY WHAT WHO WHAT NOW? OKAY WHAT.THEY SAY WHAT WHAT, I SAY WHAT WHO WHAT NOW? OKAY WHAT.THEY SAY WHAT WHAT, I SAY WHAT WHO WHAT NOW? OKAY WHAT.THEY SAY WHAT WHAT, I SAY WHAT WHO WHAT NOW? OKAY WHAT.THEY SAY WHAT WHAT, I SAY WHAT WHO WHAT NOW? OKAY WHAT.THEY SAY WHAT WHAT, I SAY WHAT WHO WHAT NOW? OKAY WHAT.THEY SAY WHAT WHAT, I SAY WHAT WHO WHAT NOW? OKAY WHAT.THEY SAY WHAT WHAT, I SAY WHAT WHO WHAT NOW? OKAY WHAT.THEY SAY WHAT WHAT, I SAY WHAT WHO WHAT NOW? OKAY WHAT.THEY SAY WHAT WHAT, I SAY WHAT WHO WHAT NOW? OKAY WHAT.THEY SAY WHAT WHAT, I SAY WHAT WHO WHAT NOW? OKAY WHAT.THEY SAY WHAT WHAT, I SAY WHAT WHO WHAT NOW? OKAY WHAT.THEY SAY WHAT WHAT, I SAY WHAT WHO WHAT NOW? OKAY WHAT.THEY SAY WHAT WHAT, I SAY WHAT WHO WHAT NOW? OKAY WHAT.THEY SAY WHAT WHAT, I SAY WHAT WHO WHAT NOW? OKAY WHAT.THEY SAY WHAT WHAT, I SAY WHAT WHO WHAT NOW? OKAY WHAT.THEY SAY WHAT WHAT, I SAY WHAT WHO WHAT NOW? OKAY WHAT.THEY SAY WHAT WHAT, I SAY WHAT WHO WHAT NOW? OKAY WHAT.THEY SAY WHAT WHAT, I SAY WHAT WHO WHAT NOW? OKAY WHAT.THEY SAY WHAT WHAT, I SAY WHAT WHO WHAT NOW? OKAY WHAT.THEY SAY WHAT WHAT, I SAY WHAT WHO WHAT NOW? OKAY WHAT.THEY SAY WHAT WHAT, I SAY WHAT WHO WHAT NOW? OKAY WHAT.THEY SAY WHAT WHAT, I SAY WHAT WHO WHAT NOW? OKAY WHAT.THEY SAY WHAT WHAT, I SAY WHAT WHO WHAT NOW? OKAY WHAT.THEY SAY WHAT WHAT, I SAY WHAT WHO WHAT NOW? OKAY WHAT.THEY SAY WHAT WHAT, I SAY WHAT WHO WHAT NOW? OKAY WHAT.THEY SAY WHAT WHAT, I SAY WHAT WHO WHAT NOW? OKAY WHAT.THEY SAY WHAT WHAT, I SAY WHAT WHO WHAT NOW? OKAY WHAT.THEY SAY WHAT WHAT, I SAY WHAT WHO WHAT NOW? OKAY WHAT.THEY SAY WHAT WHAT, I SAY WHAT WHO WHAT NOW? OKAY WHAT.THEY SAY WHAT WHAT, I SAY WHAT WHO WHAT NOW? OKAY WHAT.THEY SAY WHAT WHAT, I SAY WHAT WHO WHAT NOW? OKAY WHAT.THEY SAY WHAT WHAT, I SAY WHAT WHO WHAT NOW? OKAY WHAT.THEY SAY WHAT WHAT, I SAY WHAT WHO WHAT NOW? OKAY WHAT.THEY SAY WHAT WHAT, I SAY WHAT WHO WHAT NOW? OKAY WHAT.THEY SAY WHAT WHAT, I SAY WHAT WHO WHAT NOW? OKAY WHAT.THEY SAY WHAT WHAT, I SAY WHAT WHO WHAT NOW? OKAY WHAT.THEY SAY WHAT WHAT, I SAY WHAT WHO WHAT NOW? OKAY WHAT.THEY SAY WHAT WHAT, I SAY WHAT WHO WHAT NOW? OKAY WHAT.THEY SAY WHAT WHAT, I SAY WHAT WHO WHAT NOW? OKAY WHAT.THEY SAY WHAT WHAT, I SAY WHAT WHO WHAT NOW? OKAY WHAT.THEY SAY WHAT WHAT, I SAY WHAT WHO WHAT NOW? OKAY WHAT.THEY SAY WHAT WHAT, I SAY WHAT WHO WHAT NOW? OKAY WHAT.THEY SAY WHAT WHAT, I SAY WHAT WHO WHAT NOW? OKAY WHAT.THEY SAY WHAT WHAT, I SAY WHAT WHO WHAT NOW? OKAY WHAT.THEY SAY WHAT WHAT, I SAY WHAT WHO WHAT NOW? OKAY WHAT.THEY SAY WHAT WHAT, I SAY WHAT WHO WHAT NOW? OKAY WHAT.THEY SAY WHAT WHAT, I SAY WHAT WHO WHAT NOW? OKAY WHAT.THEY SAY WHAT WHAT, I SAY WHAT WHO WHAT NOW? OKAY WHAT.THEY SAY WHAT WHAT, I SAY WHAT WHO WHAT NOW? OKAY WHAT.THEY SAY WHAT WHAT, I SAY WHAT WHO WHAT NOW? OKAY WHAT.THEY SAY WHAT WHAT, I SAY WHAT WHO WHAT NOW? OKAY WHAT.THEY SAY WHAT WHAT, I SAY WHAT WHO WHAT NOW? OKAY WHAT.THEY SAY WHAT WHAT, I SAY WHAT WHO WHAT NOW? OKAY WHAT.THEY SAY WHAT WHAT, I SAY WHAT WHO WHAT NOW? OKAY WHAT.THEY SAY WHAT WHAT, I SAY WHAT WHO WHAT NOW? OKAY WHAT.THEY SAY WHAT WHAT, I SAY WHAT WHO WHAT NOW? OKAY WHAT.THEY SAY WHAT WHAT, I SAY WHAT WHO WHAT NOW? OKAY WHAT.THEY SAY WHAT WHAT, I SAY WHAT WHO WHAT NOW? OKAY WHAT.THEY SAY WHAT WHAT, I SAY WHAT WHO WHAT NOW? OKAY WHAT.THEY SAY WHAT WHAT, I SAY WHAT WHO WHAT NOW? OKAY WHAT.THEY SAY WHAT WHAT, I SAY WHAT WHO WHAT NOW? OKAY WHAT.THEY SAY WHAT WHAT, I SAY WHAT WHO WHAT NOW? OKAY WHAT.THEY SAY WHAT WHAT, I SAY WHAT WHO WHAT NOW? OKAY WHAT.THEY SAY WHAT WHAT, I SAY WHAT WHO WHAT NOW? OKAY WHAT.THEY SAY WHAT WHAT, I SAY WHAT WHO WHAT NOW? OKAY WHAT.THEY SAY WHAT WHAT, I SAY WHAT WHO WHAT NOW? OKAY WHAT.THEY SAY WHAT WHAT, I SAY WHAT WHO WHAT NOW? OKAY WHAT.THEY SAY WHAT WHAT, I SAY WHAT WHO WHAT NOW? OKAY WHAT.THEY SAY WHAT WHAT, I SAY WHAT WHO WHAT NOW? OKAY WHAT.THEY SAY WHAT WHAT, I SAY WHAT WHO WHAT NOW? OKAY WHAT.THEY SAY WHAT WHAT, I SAY WHAT WHO WHAT NOW? OKAY WHAT.THEY SAY WHAT WHAT, I SAY WHAT WHO WHAT NOW? OKAY WHAT.THEY SAY WHAT WHAT, I SAY WHAT WHO WHAT NOW? OKAY WHAT.THEY SAY WHAT WHAT, I SAY WHAT WHO WHAT NOW? OKAY WHAT.THEY SAY WHAT WHAT, I SAY WHAT WHO WHAT NOW? OKAY WHAT.THEY SAY WHAT WHAT, I SAY WHAT WHO WHAT NOW? OKAY WHAT.THEY SAY WHAT WHAT, I SAY WHAT WHO WHAT NOW? OKAY WHAT.THEY SAY WHAT WHAT, I SAY WHAT WHO WHAT NOW? OKAY WHAT.THEY SAY WHAT WHAT, I SAY WHAT WHO WHAT NOW? OKAY WHAT.THEY SAY WHAT WHAT, I SAY WHAT WHO WHAT NOW? OKAY WHAT.THEY SAY WHAT WHAT, I SAY WHAT WHO WHAT NOW? OKAY WHAT.THEY SAY WHAT WHAT, I SAY WHAT WHO WHAT NOW? OKAY WHAT.THEY SAY WHAT WHAT, I SAY WHAT WHO WHAT NOW? OKAY WHAT.THEY SAY WHAT WHAT, I SAY WHAT WHO WHAT NOW? OKAY WHAT.\"\n",
    "len(test_str)"
   ]
  },
  {
   "cell_type": "code",
   "execution_count": 27,
   "metadata": {},
   "outputs": [
    {
     "data": {
      "text/plain": [
       "4"
      ]
     },
     "execution_count": 27,
     "metadata": {},
     "output_type": "execute_result"
    }
   ],
   "source": [
    "test_sub = \"WHAT\"\n",
    "len(test_sub)"
   ]
  },
  {
   "cell_type": "code",
   "execution_count": 28,
   "metadata": {
    "scrolled": true
   },
   "outputs": [
    {
     "name": "stdout",
     "output_type": "stream",
     "text": [
      "Elapsed time: 0.0002048550 seconds\n",
      "[5385, 5370, 5361, 5349, 5344, 5330, 5315, 5306, 5294, 5289, 5275, 5260, 5251, 5239, 5234, 5220, 5205, 5196, 5184, 5179, 5165, 5150, 5141, 5129, 5124, 5110, 5095, 5086, 5074, 5069, 5055, 5040, 5031, 5019, 5014, 5000, 4985, 4976, 4964, 4959, 4945, 4930, 4921, 4909, 4904, 4890, 4875, 4866, 4854, 4849, 4835, 4820, 4811, 4799, 4794, 4780, 4765, 4756, 4744, 4739, 4725, 4710, 4701, 4689, 4684, 4670, 4655, 4646, 4634, 4629, 4615, 4600, 4591, 4579, 4574, 4560, 4545, 4536, 4524, 4519, 4505, 4490, 4481, 4469, 4464, 4450, 4435, 4426, 4414, 4409, 4395, 4380, 4371, 4359, 4354, 4340, 4325, 4316, 4304, 4299, 4285, 4270, 4261, 4249, 4244, 4230, 4215, 4206, 4194, 4189, 4175, 4160, 4151, 4139, 4134, 4120, 4105, 4096, 4084, 4079, 4065, 4050, 4041, 4029, 4024, 4010, 3995, 3986, 3974, 3969, 3955, 3940, 3931, 3919, 3914, 3900, 3885, 3876, 3864, 3859, 3845, 3830, 3821, 3809, 3804, 3790, 3775, 3766, 3754, 3749, 3735, 3720, 3711, 3699, 3694, 3680, 3665, 3656, 3644, 3639, 3625, 3610, 3601, 3589, 3584, 3570, 3555, 3546, 3534, 3529, 3515, 3500, 3491, 3479, 3474, 3460, 3445, 3436, 3424, 3419, 3405, 3390, 3381, 3369, 3364, 3350, 3335, 3326, 3314, 3309, 3295, 3280, 3271, 3259, 3254, 3240, 3225, 3216, 3204, 3199, 3185, 3170, 3161, 3149, 3144, 3130, 3115, 3106, 3094, 3089, 3075, 3060, 3051, 3039, 3034, 3020, 3005, 2996, 2984, 2979, 2965, 2950, 2941, 2929, 2924, 2910, 2895, 2886, 2874, 2869, 2855, 2840, 2831, 2819, 2814, 2800, 2785, 2776, 2764, 2759, 2745, 2730, 2721, 2709, 2704, 2690, 2675, 2666, 2654, 2649, 2635, 2620, 2611, 2599, 2594, 2580, 2565, 2556, 2544, 2539, 2525, 2510, 2501, 2489, 2484, 2470, 2455, 2446, 2434, 2429, 2415, 2400, 2391, 2379, 2374, 2360, 2345, 2336, 2324, 2319, 2305, 2290, 2281, 2269, 2264, 2250, 2235, 2226, 2214, 2209, 2195, 2180, 2171, 2159, 2154, 2140, 2125, 2116, 2104, 2099, 2085, 2070, 2061, 2049, 2044, 2030, 2015, 2006, 1994, 1989, 1975, 1960, 1951, 1939, 1934, 1920, 1905, 1896, 1884, 1879, 1865, 1850, 1841, 1829, 1824, 1810, 1795, 1786, 1774, 1769, 1755, 1740, 1731, 1719, 1714, 1700, 1685, 1676, 1664, 1659, 1645, 1630, 1621, 1609, 1604, 1590, 1575, 1566, 1554, 1549, 1535, 1520, 1511, 1499, 1494, 1480, 1465, 1456, 1444, 1439, 1425, 1410, 1401, 1389, 1384, 1370, 1355, 1346, 1334, 1329, 1315, 1300, 1291, 1279, 1274, 1260, 1245, 1236, 1224, 1219, 1205, 1190, 1181, 1169, 1164, 1150, 1135, 1126, 1114, 1109, 1095, 1080, 1071, 1059, 1054, 1040, 1025, 1016, 1004, 999, 985, 970, 961, 949, 944, 930, 915, 906, 894, 889, 875, 860, 851, 839, 834, 820, 805, 796, 784, 779, 765, 750, 741, 729, 724, 710, 695, 686, 674, 669, 655, 640, 631, 619, 614, 600, 585, 576, 564, 559, 545, 530, 521, 509, 504, 490, 475, 466, 454, 449, 435, 420, 411, 399, 394, 380, 365, 356, 344, 339, 325, 310, 301, 289, 284, 270, 255, 246, 234, 229, 215, 200, 191, 179, 174, 160, 145, 136, 124, 119, 105, 90, 81, 69, 64, 50, 35, 26, 14, 9]\n"
     ]
    }
   ],
   "source": [
    "print(old_str_find_all(test_str,test_sub ))"
   ]
  },
  {
   "cell_type": "code",
   "execution_count": 29,
   "metadata": {},
   "outputs": [
    {
     "name": "stdout",
     "output_type": "stream",
     "text": [
      "Elapsed time: 0.0013381100 seconds\n",
      "[9, 14, 26, 35, 50, 64, 69, 81, 90, 105, 119, 124, 136, 145, 160, 174, 179, 191, 200, 215, 229, 234, 246, 255, 270, 284, 289, 301, 310, 325, 339, 344, 356, 365, 380, 394, 399, 411, 420, 435, 449, 454, 466, 475, 490, 504, 509, 521, 530, 545, 559, 564, 576, 585, 600, 614, 619, 631, 640, 655, 669, 674, 686, 695, 710, 724, 729, 741, 750, 765, 779, 784, 796, 805, 820, 834, 839, 851, 860, 875, 889, 894, 906, 915, 930, 944, 949, 961, 970, 985, 999, 1004, 1016, 1025, 1040, 1054, 1059, 1071, 1080, 1095, 1109, 1114, 1126, 1135, 1150, 1164, 1169, 1181, 1190, 1205, 1219, 1224, 1236, 1245, 1260, 1274, 1279, 1291, 1300, 1315, 1329, 1334, 1346, 1355, 1370, 1384, 1389, 1401, 1410, 1425, 1439, 1444, 1456, 1465, 1480, 1494, 1499, 1511, 1520, 1535, 1549, 1554, 1566, 1575, 1590, 1604, 1609, 1621, 1630, 1645, 1659, 1664, 1676, 1685, 1700, 1714, 1719, 1731, 1740, 1755, 1769, 1774, 1786, 1795, 1810, 1824, 1829, 1841, 1850, 1865, 1879, 1884, 1896, 1905, 1920, 1934, 1939, 1951, 1960, 1975, 1989, 1994, 2006, 2015, 2030, 2044, 2049, 2061, 2070, 2085, 2099, 2104, 2116, 2125, 2140, 2154, 2159, 2171, 2180, 2195, 2209, 2214, 2226, 2235, 2250, 2264, 2269, 2281, 2290, 2305, 2319, 2324, 2336, 2345, 2360, 2374, 2379, 2391, 2400, 2415, 2429, 2434, 2446, 2455, 2470, 2484, 2489, 2501, 2510, 2525, 2539, 2544, 2556, 2565, 2580, 2594, 2599, 2611, 2620, 2635, 2649, 2654, 2666, 2675, 2690, 2704, 2709, 2721, 2730, 2745, 2759, 2764, 2776, 2785, 2800, 2814, 2819, 2831, 2840, 2855, 2869, 2874, 2886, 2895, 2910, 2924, 2929, 2941, 2950, 2965, 2979, 2984, 2996, 3005, 3020, 3034, 3039, 3051, 3060, 3075, 3089, 3094, 3106, 3115, 3130, 3144, 3149, 3161, 3170, 3185, 3199, 3204, 3216, 3225, 3240, 3254, 3259, 3271, 3280, 3295, 3309, 3314, 3326, 3335, 3350, 3364, 3369, 3381, 3390, 3405, 3419, 3424, 3436, 3445, 3460, 3474, 3479, 3491, 3500, 3515, 3529, 3534, 3546, 3555, 3570, 3584, 3589, 3601, 3610, 3625, 3639, 3644, 3656, 3665, 3680, 3694, 3699, 3711, 3720, 3735, 3749, 3754, 3766, 3775, 3790, 3804, 3809, 3821, 3830, 3845, 3859, 3864, 3876, 3885, 3900, 3914, 3919, 3931, 3940, 3955, 3969, 3974, 3986, 3995, 4010, 4024, 4029, 4041, 4050, 4065, 4079, 4084, 4096, 4105, 4120, 4134, 4139, 4151, 4160, 4175, 4189, 4194, 4206, 4215, 4230, 4244, 4249, 4261, 4270, 4285, 4299, 4304, 4316, 4325, 4340, 4354, 4359, 4371, 4380, 4395, 4409, 4414, 4426, 4435, 4450, 4464, 4469, 4481, 4490, 4505, 4519, 4524, 4536, 4545, 4560, 4574, 4579, 4591, 4600, 4615, 4629, 4634, 4646, 4655, 4670, 4684, 4689, 4701, 4710, 4725, 4739, 4744, 4756, 4765, 4780, 4794, 4799, 4811, 4820, 4835, 4849, 4854, 4866, 4875, 4890, 4904, 4909, 4921, 4930, 4945, 4959, 4964, 4976, 4985, 5000, 5014, 5019, 5031, 5040, 5055, 5069, 5074, 5086, 5095, 5110, 5124, 5129, 5141, 5150, 5165, 5179, 5184, 5196, 5205, 5220, 5234, 5239, 5251, 5260, 5275, 5289, 5294, 5306, 5315, 5330, 5344, 5349, 5361, 5370, 5385]\n"
     ]
    }
   ],
   "source": [
    "print(new_str_find_all(test_str,test_sub ))"
   ]
  },
  {
   "cell_type": "code",
   "execution_count": 30,
   "metadata": {},
   "outputs": [],
   "source": [
    "# using list comprehension + startswith() \n",
    "# All occurrences of substring in string  \n",
    "res = [i for i in range(len(test_str)) if test_str.startswith(test_sub, i)] "
   ]
  },
  {
   "cell_type": "code",
   "execution_count": 31,
   "metadata": {},
   "outputs": [
    {
     "name": "stdout",
     "output_type": "stream",
     "text": [
      "[9, 14, 26, 35, 50, 64, 69, 81, 90, 105, 119, 124, 136, 145, 160, 174, 179, 191, 200, 215, 229, 234, 246, 255, 270, 284, 289, 301, 310, 325, 339, 344, 356, 365, 380, 394, 399, 411, 420, 435, 449, 454, 466, 475, 490, 504, 509, 521, 530, 545, 559, 564, 576, 585, 600, 614, 619, 631, 640, 655, 669, 674, 686, 695, 710, 724, 729, 741, 750, 765, 779, 784, 796, 805, 820, 834, 839, 851, 860, 875, 889, 894, 906, 915, 930, 944, 949, 961, 970, 985, 999, 1004, 1016, 1025, 1040, 1054, 1059, 1071, 1080, 1095, 1109, 1114, 1126, 1135, 1150, 1164, 1169, 1181, 1190, 1205, 1219, 1224, 1236, 1245, 1260, 1274, 1279, 1291, 1300, 1315, 1329, 1334, 1346, 1355, 1370, 1384, 1389, 1401, 1410, 1425, 1439, 1444, 1456, 1465, 1480, 1494, 1499, 1511, 1520, 1535, 1549, 1554, 1566, 1575, 1590, 1604, 1609, 1621, 1630, 1645, 1659, 1664, 1676, 1685, 1700, 1714, 1719, 1731, 1740, 1755, 1769, 1774, 1786, 1795, 1810, 1824, 1829, 1841, 1850, 1865, 1879, 1884, 1896, 1905, 1920, 1934, 1939, 1951, 1960, 1975, 1989, 1994, 2006, 2015, 2030, 2044, 2049, 2061, 2070, 2085, 2099, 2104, 2116, 2125, 2140, 2154, 2159, 2171, 2180, 2195, 2209, 2214, 2226, 2235, 2250, 2264, 2269, 2281, 2290, 2305, 2319, 2324, 2336, 2345, 2360, 2374, 2379, 2391, 2400, 2415, 2429, 2434, 2446, 2455, 2470, 2484, 2489, 2501, 2510, 2525, 2539, 2544, 2556, 2565, 2580, 2594, 2599, 2611, 2620, 2635, 2649, 2654, 2666, 2675, 2690, 2704, 2709, 2721, 2730, 2745, 2759, 2764, 2776, 2785, 2800, 2814, 2819, 2831, 2840, 2855, 2869, 2874, 2886, 2895, 2910, 2924, 2929, 2941, 2950, 2965, 2979, 2984, 2996, 3005, 3020, 3034, 3039, 3051, 3060, 3075, 3089, 3094, 3106, 3115, 3130, 3144, 3149, 3161, 3170, 3185, 3199, 3204, 3216, 3225, 3240, 3254, 3259, 3271, 3280, 3295, 3309, 3314, 3326, 3335, 3350, 3364, 3369, 3381, 3390, 3405, 3419, 3424, 3436, 3445, 3460, 3474, 3479, 3491, 3500, 3515, 3529, 3534, 3546, 3555, 3570, 3584, 3589, 3601, 3610, 3625, 3639, 3644, 3656, 3665, 3680, 3694, 3699, 3711, 3720, 3735, 3749, 3754, 3766, 3775, 3790, 3804, 3809, 3821, 3830, 3845, 3859, 3864, 3876, 3885, 3900, 3914, 3919, 3931, 3940, 3955, 3969, 3974, 3986, 3995, 4010, 4024, 4029, 4041, 4050, 4065, 4079, 4084, 4096, 4105, 4120, 4134, 4139, 4151, 4160, 4175, 4189, 4194, 4206, 4215, 4230, 4244, 4249, 4261, 4270, 4285, 4299, 4304, 4316, 4325, 4340, 4354, 4359, 4371, 4380, 4395, 4409, 4414, 4426, 4435, 4450, 4464, 4469, 4481, 4490, 4505, 4519, 4524, 4536, 4545, 4560, 4574, 4579, 4591, 4600, 4615, 4629, 4634, 4646, 4655, 4670, 4684, 4689, 4701, 4710, 4725, 4739, 4744, 4756, 4765, 4780, 4794, 4799, 4811, 4820, 4835, 4849, 4854, 4866, 4875, 4890, 4904, 4909, 4921, 4930, 4945, 4959, 4964, 4976, 4985, 5000, 5014, 5019, 5031, 5040, 5055, 5069, 5074, 5086, 5095, 5110, 5124, 5129, 5141, 5150, 5165, 5179, 5184, 5196, 5205, 5220, 5234, 5239, 5251, 5260, 5275, 5289, 5294, 5306, 5315, 5330, 5344, 5349, 5361, 5370, 5385]\n"
     ]
    }
   ],
   "source": [
    "print(res)"
   ]
  },
  {
   "cell_type": "code",
   "execution_count": 32,
   "metadata": {},
   "outputs": [],
   "source": [
    "@timer\n",
    "def findstr_1(test_str, test_sub):\n",
    "    matches = re.finditer(test_sub, test_str)\n",
    "    matches_positions = [match.start() for match in matches]"
   ]
  },
  {
   "cell_type": "code",
   "execution_count": 33,
   "metadata": {},
   "outputs": [
    {
     "name": "stdout",
     "output_type": "stream",
     "text": [
      "Elapsed time: 0.0001674720 seconds\n",
      "None\n"
     ]
    }
   ],
   "source": [
    "\n",
    "print(findstr_1(test_str, test_sub))"
   ]
  },
  {
   "cell_type": "code",
   "execution_count": 35,
   "metadata": {},
   "outputs": [
    {
     "data": {
      "text/plain": [
       "0.18248517243904222"
      ]
     },
     "execution_count": 35,
     "metadata": {},
     "output_type": "execute_result"
    }
   ],
   "source": [
    "(0.0002048550 - 0.0001674720)/0.0002048550"
   ]
  },
  {
   "cell_type": "code",
   "execution_count": 38,
   "metadata": {},
   "outputs": [
    {
     "ename": "AttributeError",
     "evalue": "'Series' object has no attribute 'findall'",
     "output_type": "error",
     "traceback": [
      "\u001b[0;31m---------------------------------------------------------------------------\u001b[0m",
      "\u001b[0;31mAttributeError\u001b[0m                            Traceback (most recent call last)",
      "\u001b[0;32m<ipython-input-38-ec1258795acd>\u001b[0m in \u001b[0;36m<module>\u001b[0;34m\u001b[0m\n\u001b[1;32m      1\u001b[0m \u001b[0ms\u001b[0m \u001b[0;34m=\u001b[0m \u001b[0mpandas\u001b[0m\u001b[0;34m.\u001b[0m\u001b[0mSeries\u001b[0m\u001b[0;34m(\u001b[0m\u001b[0;34m\"what what, i say what and then what again\"\u001b[0m\u001b[0;34m)\u001b[0m\u001b[0;34m\u001b[0m\u001b[0;34m\u001b[0m\u001b[0m\n\u001b[1;32m      2\u001b[0m \u001b[0mss\u001b[0m \u001b[0;34m=\u001b[0m \u001b[0;34m\"what\"\u001b[0m\u001b[0;34m\u001b[0m\u001b[0;34m\u001b[0m\u001b[0m\n\u001b[0;32m----> 3\u001b[0;31m \u001b[0ms\u001b[0m\u001b[0;34m.\u001b[0m\u001b[0mfindall\u001b[0m\u001b[0;34m(\u001b[0m\u001b[0mss\u001b[0m\u001b[0;34m)\u001b[0m\u001b[0;34m\u001b[0m\u001b[0;34m\u001b[0m\u001b[0m\n\u001b[0m",
      "\u001b[0;32m~/Library/Python/3.7/lib/python/site-packages/pandas/core/generic.py\u001b[0m in \u001b[0;36m__getattr__\u001b[0;34m(self, name)\u001b[0m\n\u001b[1;32m   5272\u001b[0m             \u001b[0;32mif\u001b[0m \u001b[0mself\u001b[0m\u001b[0;34m.\u001b[0m\u001b[0m_info_axis\u001b[0m\u001b[0;34m.\u001b[0m\u001b[0m_can_hold_identifiers_and_holds_name\u001b[0m\u001b[0;34m(\u001b[0m\u001b[0mname\u001b[0m\u001b[0;34m)\u001b[0m\u001b[0;34m:\u001b[0m\u001b[0;34m\u001b[0m\u001b[0;34m\u001b[0m\u001b[0m\n\u001b[1;32m   5273\u001b[0m                 \u001b[0;32mreturn\u001b[0m \u001b[0mself\u001b[0m\u001b[0;34m[\u001b[0m\u001b[0mname\u001b[0m\u001b[0;34m]\u001b[0m\u001b[0;34m\u001b[0m\u001b[0;34m\u001b[0m\u001b[0m\n\u001b[0;32m-> 5274\u001b[0;31m             \u001b[0;32mreturn\u001b[0m \u001b[0mobject\u001b[0m\u001b[0;34m.\u001b[0m\u001b[0m__getattribute__\u001b[0m\u001b[0;34m(\u001b[0m\u001b[0mself\u001b[0m\u001b[0;34m,\u001b[0m \u001b[0mname\u001b[0m\u001b[0;34m)\u001b[0m\u001b[0;34m\u001b[0m\u001b[0;34m\u001b[0m\u001b[0m\n\u001b[0m\u001b[1;32m   5275\u001b[0m \u001b[0;34m\u001b[0m\u001b[0m\n\u001b[1;32m   5276\u001b[0m     \u001b[0;32mdef\u001b[0m \u001b[0m__setattr__\u001b[0m\u001b[0;34m(\u001b[0m\u001b[0mself\u001b[0m\u001b[0;34m,\u001b[0m \u001b[0mname\u001b[0m\u001b[0;34m:\u001b[0m \u001b[0mstr\u001b[0m\u001b[0;34m,\u001b[0m \u001b[0mvalue\u001b[0m\u001b[0;34m)\u001b[0m \u001b[0;34m->\u001b[0m \u001b[0;32mNone\u001b[0m\u001b[0;34m:\u001b[0m\u001b[0;34m\u001b[0m\u001b[0;34m\u001b[0m\u001b[0m\n",
      "\u001b[0;31mAttributeError\u001b[0m: 'Series' object has no attribute 'findall'"
     ]
    }
   ],
   "source": [
    "s = pandas.Series(\"what what, i say what and then what again\")\n",
    "ss = \"what\"\n",
    "s.findall(ss)"
   ]
  },
  {
   "cell_type": "code",
   "execution_count": null,
   "metadata": {},
   "outputs": [],
   "source": []
  }
 ],
 "metadata": {
  "kernelspec": {
   "display_name": "Python 3.7.3 64-bit",
   "language": "python",
   "name": "python37364bit76504fc049d045eda3a22b014d579133"
  },
  "language_info": {
   "codemirror_mode": {
    "name": "ipython",
    "version": 3
   },
   "file_extension": ".py",
   "mimetype": "text/x-python",
   "name": "python",
   "nbconvert_exporter": "python",
   "pygments_lexer": "ipython3",
   "version": "3.7.3"
  }
 },
 "nbformat": 4,
 "nbformat_minor": 4
}
